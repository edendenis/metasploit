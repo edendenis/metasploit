{
 "cells": [
  {
   "cell_type": "markdown",
   "metadata": {},
   "source": [
    "# Como configurar/instalar o `metasploit` no `Linux Ubuntu`\n",
    "\n",
    "## Resumo\n",
    "\n",
    "Neste documento estão contidos os principais comandos e configurações para configurar/instalar o `metasploit` no `Linux Ubuntu`.\n",
    "\n",
    "## _Abstract_\n",
    "\n",
    "_In this document are contained the main commands and settings to set up/install the `metasploit` on `Linux Ubuntu`._"
   ]
  },
  {
   "cell_type": "markdown",
   "metadata": {},
   "source": [
    "## Descrição [2]\n",
    "\n",
    "### `metasploit`\n",
    "\n",
    "O metasploit é uma poderosa ferramenta de análise de protocolos de rede de código aberto, amplamente utilizada para capturar e inspecionar o tráfego de rede em tempo real. Ele permite que os usuários analisem pacotes de dados transmitidos por uma rede e fornece informações detalhadas sobre o tráfego, incluindo protocolos, origens e destinos de pacotes e seu conteúdo. O metasploit é uma escolha valiosa para administradores de rede, engenheiros de segurança e profissionais de TI que precisam solucionar problemas de rede, diagnosticar problemas de desempenho e identificar possíveis ameaças de segurança. Sua interface de usuário robusta e recursos avançados o tornam uma ferramenta essencial para a análise de tráfego de rede em ambientes corporativos e de pesquisa."
   ]
  },
  {
   "cell_type": "markdown",
   "metadata": {},
   "source": [
    "## 1. Como configurar/instalar o `metasploit` no Linux Ubuntu [1]\n",
    "\n",
    "Para configurar/instalar o `metasploit` no Linux Ubuntu, você pode seguir estes passos:\n",
    "\n",
    "1. Abra o `Terminal Emulator`. Você pode fazer isso pressionando: `Ctrl + Alt + T`\n"
   ]
  },
  {
   "cell_type": "markdown",
   "metadata": {},
   "source": [
    "2. Certifique-se de que seu sistema esteja limpo e atualizado.\n",
    "\n",
    "    2.1 Limpar o `cache` do gerenciador de pacotes `apt`. Especificamente, ele remove todos os arquivos de pacotes (`.deb`) baixados pelo `apt` e armazenados em `/var/cache/apt/archives/`. Digite o seguinte comando: `sudo apt clean` \n",
    "    \n",
    "    2.2 Remover pacotes `.deb` antigos ou duplicados do cache local. É útil para liberar espaço, pois remove apenas os pacotes que não podem mais ser baixados (ou seja, versões antigas de pacotes que foram atualizados). Digite o seguinte comando: `sudo apt autoclean`\n",
    "\n",
    "    2.3 Remover pacotes que foram automaticamente instalados para satisfazer as dependências de outros pacotes e que não são mais necessários. Digite o seguinte comando: `sudo apt autoremove -y`\n",
    "\n",
    "    2.4 Buscar as atualizações disponíveis para os pacotes que estão instalados em seu sistema. Digite o seguinte comando e pressione `Enter`: `sudo apt update`\n",
    "\n",
    "    2.5 **Corrigir pacotes quebrados**: Isso atualizará a lista de pacotes disponíveis e tentará corrigir pacotes quebrados ou com dependências ausentes: `sudo apt --fix-broken install`\n",
    "\n",
    "    2.6 Limpar o `cache` do gerenciador de pacotes `apt`. Especificamente, ele remove todos os arquivos de pacotes (`.deb`) baixados pelo `apt` e armazenados em `/var/cache/apt/archives/`. Digite o seguinte comando: `sudo apt clean` \n",
    "    \n",
    "    2.7 Para ver a lista de pacotes a serem atualizados, digite o seguinte comando e pressione `Enter`:  `sudo apt list --upgradable`\n",
    "\n",
    "    2.8 Realmente atualizar os pacotes instalados para as suas versões mais recentes, com base na última vez que você executou `sudo apt update`. Digite o seguinte comando e pressione `Enter`: `sudo apt full-upgrade -y`\n",
    "    "
   ]
  },
  {
   "cell_type": "markdown",
   "metadata": {},
   "source": [
    "Para instalar o `metasploit` no Ubuntu através do terminal, você pode seguir os seguintes passos:\n",
    "\n",
    "3. **Instale as Dependências:** O Metasploit requer algumas dependências para funcionar corretamente. Instale-as com o comando: `sudo apt install curl gpg software-properties-common`\n",
    "\n",
    "4. **Adicione o Repositório do Metasploit:** O Metasploit não está disponível nos repositórios padrão do Ubuntu, então você precisa adicionar o repositório oficial. Faça isso com o seguinte comando:\n",
    "\n",
    "    ```\n",
    "    curl https://apt.metasploit.com/metasploit-framework.gpg.key | sudo gpg --dearmor -o /usr/share/keyrings/metasploit-framework-archive-keyring.gpg\n",
    "    echo \"deb [signed-by=/usr/share/keyrings/metasploit-framework-archive-keyring.gpg] https://apt.metasploit.com/ $(lsb_release -cs) main\" | sudo tee /etc/apt/sources.list.d/metasploit-framework.list\n",
    "    ```\n",
    "\n",
    "5. **Atualize a Lista de Pacotes Novamente:** Com o novo repositório adicionado, atualize a lista de pacotes: `sudo apt update -y`\n",
    "\n",
    "6. **Instale o Metasploit:** Agora, você pode instalar o Metasploit com o comando: `sudo snap install metasploit-framework`\n",
    "\n",
    "7. **Inicialize o Banco de Dados:** O Metasploit usa um banco de dados para armazenar informações. Inicialize o banco de dados com: `msfdb init`\n",
    "\n",
    "8. **Inicie o Metasploit:** Para iniciar o Metasploit, use o comando: `msfconsole`\n",
    "\n",
    "Isso abrirá a interface do console do Metasploit, onde você pode começar a usar as ferramentas e recursos disponíveis. Lembre-se de que o Metasploit é uma ferramenta poderosa, usada principalmente para testes de penetração e auditorias de segurança. É importante usá-lo de forma ética e responsável."
   ]
  },
  {
   "cell_type": "markdown",
   "metadata": {
    "vscode": {
     "languageId": "plaintext"
    }
   },
   "source": [
    "### 1.1 Código completo para configurar/instalar\n",
    "\n",
    "Para instalar o `Metasploit` no Linux Ubuntu sem precisar digitar linha por linha, você pode seguir estas etapas:\n",
    "\n",
    "1. Abra o `Terminal Emulator`. Você pode fazer isso pressionando: `Ctrl + Alt + T`\n",
    "\n",
    "2. Digite o seguinte comando e pressione `Enter`:\n",
    "\n",
    "    ```\n",
    "    sudo apt clean                                                            \n",
    "    sudo apt autoclean\n",
    "    sudo apt autoremove -y\n",
    "    sudo apt update\n",
    "    sudo apt --fix-broken install\n",
    "    sudo apt clean\n",
    "    sudo apt list --upgradable\n",
    "    sudo apt full-upgrade -y\n",
    "    sudo apt install curl gpg software-properties-common\n",
    "    curl https://apt.metasploit.com/metasploit-framework.gpg.key | sudo gpg --dearmor -o /usr/share/keyrings/metasploit-framework-archive-keyring.gpg\n",
    "    echo \"deb [signed-by=/usr/share/keyrings/metasploit-framework-archive-keyring.gpg] https://apt.metasploit.com/ $(lsb_release -cs) main\" | sudo tee /etc/apt/sources.list.d/metasploit-framework.list\n",
    "    sudo apt update -y\n",
    "    sudo snap install metasploit-framework\n",
    "    msfdb init\n",
    "    msfconsole\n",
    "    ```\n"
   ]
  },
  {
   "cell_type": "markdown",
   "metadata": {
    "vscode": {
     "languageId": "plaintext"
    }
   },
   "source": [
    "## Referências\n",
    "\n",
    "[1] OPENAI. ***Instalar metasploit no ubuntu.*** Disponível em: <https://chat.openai.com/c/6a4e7077-eb3a-4ae6-a931-fbb5efa8d79f> (texto adaptado). Acessado em: 28/11/2023 23:30.\n",
    "\n",
    "[2] OPENAI. ***Vs code: editor popular.*** Disponível em: <https://chat.openai.com/c/b640a25d-f8e3-4922-8a3b-ed74a2657e42> (texto adaptado). Acessado em: 28/11/2023 23:30.\n"
   ]
  }
 ],
 "metadata": {
  "kernelspec": {
   "display_name": "Python 3",
   "language": "python",
   "name": "python3"
  },
  "language_info": {
   "codemirror_mode": {
    "name": "ipython",
    "version": 3
   },
   "file_extension": ".py",
   "mimetype": "text/x-python",
   "name": "python",
   "nbconvert_exporter": "python",
   "pygments_lexer": "ipython3",
   "version": "3.11.5"
  },
  "orig_nbformat": 4
 },
 "nbformat": 4,
 "nbformat_minor": 2
}
